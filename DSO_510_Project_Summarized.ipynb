{
 "cells": [
  {
   "cell_type": "markdown",
   "id": "7505719e",
   "metadata": {
    "id": "7505719e"
   },
   "source": [
    "# EDA"
   ]
  },
  {
   "cell_type": "code",
   "execution_count": 1,
   "id": "b1538f7a",
   "metadata": {
    "id": "b1538f7a"
   },
   "outputs": [],
   "source": [
    "## import libraries\n",
    "import pandas as pd\n",
    "import matplotlib.pyplot as plt\n",
    "import seaborn as sns\n",
    "from  scipy import stats as st\n",
    "import statsmodels.formula.api as sm\n",
    "import re"
   ]
  },
  {
   "cell_type": "code",
   "execution_count": 2,
   "id": "e8ce1001",
   "metadata": {
    "id": "e8ce1001",
    "scrolled": true
   },
   "outputs": [
    {
     "data": {
      "text/html": [
       "<div>\n",
       "<style scoped>\n",
       "    .dataframe tbody tr th:only-of-type {\n",
       "        vertical-align: middle;\n",
       "    }\n",
       "\n",
       "    .dataframe tbody tr th {\n",
       "        vertical-align: top;\n",
       "    }\n",
       "\n",
       "    .dataframe thead th {\n",
       "        text-align: right;\n",
       "    }\n",
       "</style>\n",
       "<table border=\"1\" class=\"dataframe\">\n",
       "  <thead>\n",
       "    <tr style=\"text-align: right;\">\n",
       "      <th></th>\n",
       "      <th>Unnamed:_0</th>\n",
       "      <th>Job_Title</th>\n",
       "      <th>Salary_Estimate</th>\n",
       "      <th>Job_Description</th>\n",
       "      <th>Rating</th>\n",
       "      <th>Company_Name</th>\n",
       "      <th>Location</th>\n",
       "      <th>Headquarters</th>\n",
       "      <th>Size</th>\n",
       "      <th>Founded</th>\n",
       "      <th>Type_of_ownership</th>\n",
       "      <th>Industry</th>\n",
       "      <th>Sector</th>\n",
       "      <th>Revenue</th>\n",
       "      <th>Competitors</th>\n",
       "      <th>Easy_Apply</th>\n",
       "    </tr>\n",
       "  </thead>\n",
       "  <tbody>\n",
       "    <tr>\n",
       "      <th>0</th>\n",
       "      <td>0</td>\n",
       "      <td>Data Analyst, Center on Immigration and Justic...</td>\n",
       "      <td>$37K-$66K (Glassdoor est.)</td>\n",
       "      <td>Are you eager to roll up your sleeves and harn...</td>\n",
       "      <td>3.2</td>\n",
       "      <td>Vera Institute of Justice\\n3.2</td>\n",
       "      <td>New York, NY</td>\n",
       "      <td>New York, NY</td>\n",
       "      <td>201 to 500 employees</td>\n",
       "      <td>1961</td>\n",
       "      <td>Nonprofit Organization</td>\n",
       "      <td>Social Assistance</td>\n",
       "      <td>Non-Profit</td>\n",
       "      <td>$100 to $500 million (USD)</td>\n",
       "      <td>-1</td>\n",
       "      <td>True</td>\n",
       "    </tr>\n",
       "    <tr>\n",
       "      <th>1</th>\n",
       "      <td>1</td>\n",
       "      <td>Quality Data Analyst</td>\n",
       "      <td>$37K-$66K (Glassdoor est.)</td>\n",
       "      <td>Overview\\n\\nProvides analytical and technical ...</td>\n",
       "      <td>3.8</td>\n",
       "      <td>Visiting Nurse Service of New York\\n3.8</td>\n",
       "      <td>New York, NY</td>\n",
       "      <td>New York, NY</td>\n",
       "      <td>10000+ employees</td>\n",
       "      <td>1893</td>\n",
       "      <td>Nonprofit Organization</td>\n",
       "      <td>Health Care Services &amp; Hospitals</td>\n",
       "      <td>Health Care</td>\n",
       "      <td>$2 to $5 billion (USD)</td>\n",
       "      <td>-1</td>\n",
       "      <td>-1</td>\n",
       "    </tr>\n",
       "    <tr>\n",
       "      <th>2</th>\n",
       "      <td>2</td>\n",
       "      <td>Senior Data Analyst, Insights &amp; Analytics Team...</td>\n",
       "      <td>$37K-$66K (Glassdoor est.)</td>\n",
       "      <td>We’re looking for a Senior Data Analyst who ha...</td>\n",
       "      <td>3.4</td>\n",
       "      <td>Squarespace\\n3.4</td>\n",
       "      <td>New York, NY</td>\n",
       "      <td>New York, NY</td>\n",
       "      <td>1001 to 5000 employees</td>\n",
       "      <td>2003</td>\n",
       "      <td>Company - Private</td>\n",
       "      <td>Internet</td>\n",
       "      <td>Information Technology</td>\n",
       "      <td>Unknown / Non-Applicable</td>\n",
       "      <td>GoDaddy</td>\n",
       "      <td>-1</td>\n",
       "    </tr>\n",
       "    <tr>\n",
       "      <th>3</th>\n",
       "      <td>3</td>\n",
       "      <td>Data Analyst</td>\n",
       "      <td>$37K-$66K (Glassdoor est.)</td>\n",
       "      <td>Requisition NumberRR-0001939\\nRemote:Yes\\nWe c...</td>\n",
       "      <td>4.1</td>\n",
       "      <td>Celerity\\n4.1</td>\n",
       "      <td>New York, NY</td>\n",
       "      <td>McLean, VA</td>\n",
       "      <td>201 to 500 employees</td>\n",
       "      <td>2002</td>\n",
       "      <td>Subsidiary or Business Segment</td>\n",
       "      <td>IT Services</td>\n",
       "      <td>Information Technology</td>\n",
       "      <td>$50 to $100 million (USD)</td>\n",
       "      <td>-1</td>\n",
       "      <td>-1</td>\n",
       "    </tr>\n",
       "    <tr>\n",
       "      <th>4</th>\n",
       "      <td>4</td>\n",
       "      <td>Reporting Data Analyst</td>\n",
       "      <td>$37K-$66K (Glassdoor est.)</td>\n",
       "      <td>ABOUT FANDUEL GROUP\\n\\nFanDuel Group is a worl...</td>\n",
       "      <td>3.9</td>\n",
       "      <td>FanDuel\\n3.9</td>\n",
       "      <td>New York, NY</td>\n",
       "      <td>New York, NY</td>\n",
       "      <td>501 to 1000 employees</td>\n",
       "      <td>2009</td>\n",
       "      <td>Company - Private</td>\n",
       "      <td>Sports &amp; Recreation</td>\n",
       "      <td>Arts, Entertainment &amp; Recreation</td>\n",
       "      <td>$100 to $500 million (USD)</td>\n",
       "      <td>DraftKings</td>\n",
       "      <td>True</td>\n",
       "    </tr>\n",
       "    <tr>\n",
       "      <th>...</th>\n",
       "      <td>...</td>\n",
       "      <td>...</td>\n",
       "      <td>...</td>\n",
       "      <td>...</td>\n",
       "      <td>...</td>\n",
       "      <td>...</td>\n",
       "      <td>...</td>\n",
       "      <td>...</td>\n",
       "      <td>...</td>\n",
       "      <td>...</td>\n",
       "      <td>...</td>\n",
       "      <td>...</td>\n",
       "      <td>...</td>\n",
       "      <td>...</td>\n",
       "      <td>...</td>\n",
       "      <td>...</td>\n",
       "    </tr>\n",
       "    <tr>\n",
       "      <th>2248</th>\n",
       "      <td>2248</td>\n",
       "      <td>RQS - IHHA - 201900004460 -1q Data Security An...</td>\n",
       "      <td>$78K-$104K (Glassdoor est.)</td>\n",
       "      <td>Maintains systems to protect data from unautho...</td>\n",
       "      <td>2.5</td>\n",
       "      <td>Avacend, Inc.\\n2.5</td>\n",
       "      <td>Denver, CO</td>\n",
       "      <td>Alpharetta, GA</td>\n",
       "      <td>51 to 200 employees</td>\n",
       "      <td>-1</td>\n",
       "      <td>Company - Private</td>\n",
       "      <td>Staffing &amp; Outsourcing</td>\n",
       "      <td>Business Services</td>\n",
       "      <td>Unknown / Non-Applicable</td>\n",
       "      <td>-1</td>\n",
       "      <td>-1</td>\n",
       "    </tr>\n",
       "    <tr>\n",
       "      <th>2249</th>\n",
       "      <td>2249</td>\n",
       "      <td>Senior Data Analyst (Corporate Audit)</td>\n",
       "      <td>$78K-$104K (Glassdoor est.)</td>\n",
       "      <td>Position:\\nSenior Data Analyst (Corporate Audi...</td>\n",
       "      <td>2.9</td>\n",
       "      <td>Arrow Electronics\\n2.9</td>\n",
       "      <td>Centennial, CO</td>\n",
       "      <td>Centennial, CO</td>\n",
       "      <td>10000+ employees</td>\n",
       "      <td>1935</td>\n",
       "      <td>Company - Public</td>\n",
       "      <td>Wholesale</td>\n",
       "      <td>Business Services</td>\n",
       "      <td>$10+ billion (USD)</td>\n",
       "      <td>Avnet, Ingram Micro, Tech Data</td>\n",
       "      <td>-1</td>\n",
       "    </tr>\n",
       "    <tr>\n",
       "      <th>2250</th>\n",
       "      <td>2250</td>\n",
       "      <td>Technical Business Analyst (SQL, Data analytic...</td>\n",
       "      <td>$78K-$104K (Glassdoor est.)</td>\n",
       "      <td>Title: Technical Business Analyst (SQL, Data a...</td>\n",
       "      <td>-1.0</td>\n",
       "      <td>Spiceorb</td>\n",
       "      <td>Denver, CO</td>\n",
       "      <td>-1</td>\n",
       "      <td>-1</td>\n",
       "      <td>-1</td>\n",
       "      <td>-1</td>\n",
       "      <td>-1</td>\n",
       "      <td>-1</td>\n",
       "      <td>-1</td>\n",
       "      <td>-1</td>\n",
       "      <td>-1</td>\n",
       "    </tr>\n",
       "    <tr>\n",
       "      <th>2251</th>\n",
       "      <td>2251</td>\n",
       "      <td>Data Analyst 3, Customer Experience</td>\n",
       "      <td>$78K-$104K (Glassdoor est.)</td>\n",
       "      <td>Summary\\n\\nResponsible for working cross-funct...</td>\n",
       "      <td>3.1</td>\n",
       "      <td>Contingent Network Services\\n3.1</td>\n",
       "      <td>Centennial, CO</td>\n",
       "      <td>West Chester, OH</td>\n",
       "      <td>201 to 500 employees</td>\n",
       "      <td>1984</td>\n",
       "      <td>Company - Private</td>\n",
       "      <td>Enterprise Software &amp; Network Solutions</td>\n",
       "      <td>Information Technology</td>\n",
       "      <td>$25 to $50 million (USD)</td>\n",
       "      <td>-1</td>\n",
       "      <td>-1</td>\n",
       "    </tr>\n",
       "    <tr>\n",
       "      <th>2252</th>\n",
       "      <td>2252</td>\n",
       "      <td>Senior Quality Data Analyst</td>\n",
       "      <td>$78K-$104K (Glassdoor est.)</td>\n",
       "      <td>You.\\n\\nYou bring your body, mind, heart and s...</td>\n",
       "      <td>3.4</td>\n",
       "      <td>SCL Health\\n3.4</td>\n",
       "      <td>Broomfield, CO</td>\n",
       "      <td>Broomfield, CO</td>\n",
       "      <td>10000+ employees</td>\n",
       "      <td>1864</td>\n",
       "      <td>Nonprofit Organization</td>\n",
       "      <td>Health Care Services &amp; Hospitals</td>\n",
       "      <td>Health Care</td>\n",
       "      <td>$2 to $5 billion (USD)</td>\n",
       "      <td>Centura Health, HealthONE, Denver Health and H...</td>\n",
       "      <td>-1</td>\n",
       "    </tr>\n",
       "  </tbody>\n",
       "</table>\n",
       "<p>2253 rows × 16 columns</p>\n",
       "</div>"
      ],
      "text/plain": [
       "      Unnamed:_0                                          Job_Title  \\\n",
       "0              0  Data Analyst, Center on Immigration and Justic...   \n",
       "1              1                               Quality Data Analyst   \n",
       "2              2  Senior Data Analyst, Insights & Analytics Team...   \n",
       "3              3                                       Data Analyst   \n",
       "4              4                             Reporting Data Analyst   \n",
       "...          ...                                                ...   \n",
       "2248        2248  RQS - IHHA - 201900004460 -1q Data Security An...   \n",
       "2249        2249              Senior Data Analyst (Corporate Audit)   \n",
       "2250        2250  Technical Business Analyst (SQL, Data analytic...   \n",
       "2251        2251                Data Analyst 3, Customer Experience   \n",
       "2252        2252                        Senior Quality Data Analyst   \n",
       "\n",
       "                  Salary_Estimate  \\\n",
       "0      $37K-$66K (Glassdoor est.)   \n",
       "1      $37K-$66K (Glassdoor est.)   \n",
       "2      $37K-$66K (Glassdoor est.)   \n",
       "3      $37K-$66K (Glassdoor est.)   \n",
       "4      $37K-$66K (Glassdoor est.)   \n",
       "...                           ...   \n",
       "2248  $78K-$104K (Glassdoor est.)   \n",
       "2249  $78K-$104K (Glassdoor est.)   \n",
       "2250  $78K-$104K (Glassdoor est.)   \n",
       "2251  $78K-$104K (Glassdoor est.)   \n",
       "2252  $78K-$104K (Glassdoor est.)   \n",
       "\n",
       "                                        Job_Description  Rating  \\\n",
       "0     Are you eager to roll up your sleeves and harn...     3.2   \n",
       "1     Overview\\n\\nProvides analytical and technical ...     3.8   \n",
       "2     We’re looking for a Senior Data Analyst who ha...     3.4   \n",
       "3     Requisition NumberRR-0001939\\nRemote:Yes\\nWe c...     4.1   \n",
       "4     ABOUT FANDUEL GROUP\\n\\nFanDuel Group is a worl...     3.9   \n",
       "...                                                 ...     ...   \n",
       "2248  Maintains systems to protect data from unautho...     2.5   \n",
       "2249  Position:\\nSenior Data Analyst (Corporate Audi...     2.9   \n",
       "2250  Title: Technical Business Analyst (SQL, Data a...    -1.0   \n",
       "2251  Summary\\n\\nResponsible for working cross-funct...     3.1   \n",
       "2252  You.\\n\\nYou bring your body, mind, heart and s...     3.4   \n",
       "\n",
       "                                 Company_Name        Location  \\\n",
       "0              Vera Institute of Justice\\n3.2    New York, NY   \n",
       "1     Visiting Nurse Service of New York\\n3.8    New York, NY   \n",
       "2                            Squarespace\\n3.4    New York, NY   \n",
       "3                               Celerity\\n4.1    New York, NY   \n",
       "4                                FanDuel\\n3.9    New York, NY   \n",
       "...                                       ...             ...   \n",
       "2248                       Avacend, Inc.\\n2.5      Denver, CO   \n",
       "2249                   Arrow Electronics\\n2.9  Centennial, CO   \n",
       "2250                                 Spiceorb      Denver, CO   \n",
       "2251         Contingent Network Services\\n3.1  Centennial, CO   \n",
       "2252                          SCL Health\\n3.4  Broomfield, CO   \n",
       "\n",
       "          Headquarters                    Size  Founded  \\\n",
       "0         New York, NY    201 to 500 employees     1961   \n",
       "1         New York, NY        10000+ employees     1893   \n",
       "2         New York, NY  1001 to 5000 employees     2003   \n",
       "3           McLean, VA    201 to 500 employees     2002   \n",
       "4         New York, NY   501 to 1000 employees     2009   \n",
       "...                ...                     ...      ...   \n",
       "2248    Alpharetta, GA     51 to 200 employees       -1   \n",
       "2249    Centennial, CO        10000+ employees     1935   \n",
       "2250                -1                      -1       -1   \n",
       "2251  West Chester, OH    201 to 500 employees     1984   \n",
       "2252    Broomfield, CO        10000+ employees     1864   \n",
       "\n",
       "                   Type_of_ownership                                 Industry  \\\n",
       "0             Nonprofit Organization                        Social Assistance   \n",
       "1             Nonprofit Organization         Health Care Services & Hospitals   \n",
       "2                  Company - Private                                 Internet   \n",
       "3     Subsidiary or Business Segment                              IT Services   \n",
       "4                  Company - Private                      Sports & Recreation   \n",
       "...                              ...                                      ...   \n",
       "2248               Company - Private                   Staffing & Outsourcing   \n",
       "2249                Company - Public                                Wholesale   \n",
       "2250                              -1                                       -1   \n",
       "2251               Company - Private  Enterprise Software & Network Solutions   \n",
       "2252          Nonprofit Organization         Health Care Services & Hospitals   \n",
       "\n",
       "                                Sector                     Revenue  \\\n",
       "0                           Non-Profit  $100 to $500 million (USD)   \n",
       "1                          Health Care      $2 to $5 billion (USD)   \n",
       "2               Information Technology    Unknown / Non-Applicable   \n",
       "3               Information Technology   $50 to $100 million (USD)   \n",
       "4     Arts, Entertainment & Recreation  $100 to $500 million (USD)   \n",
       "...                                ...                         ...   \n",
       "2248                 Business Services    Unknown / Non-Applicable   \n",
       "2249                 Business Services          $10+ billion (USD)   \n",
       "2250                                -1                          -1   \n",
       "2251            Information Technology    $25 to $50 million (USD)   \n",
       "2252                       Health Care      $2 to $5 billion (USD)   \n",
       "\n",
       "                                            Competitors Easy_Apply  \n",
       "0                                                    -1       True  \n",
       "1                                                    -1         -1  \n",
       "2                                               GoDaddy         -1  \n",
       "3                                                    -1         -1  \n",
       "4                                            DraftKings       True  \n",
       "...                                                 ...        ...  \n",
       "2248                                                 -1         -1  \n",
       "2249                     Avnet, Ingram Micro, Tech Data         -1  \n",
       "2250                                                 -1         -1  \n",
       "2251                                                 -1         -1  \n",
       "2252  Centura Health, HealthONE, Denver Health and H...         -1  \n",
       "\n",
       "[2253 rows x 16 columns]"
      ]
     },
     "execution_count": 2,
     "metadata": {},
     "output_type": "execute_result"
    }
   ],
   "source": [
    "## read the csv file\n",
    "df = pd.read_csv('DataAnalyst 2.csv')\n",
    "df.columns = df.columns.str.replace(' ', '_')\n",
    "df"
   ]
  },
  {
   "cell_type": "code",
   "execution_count": 3,
   "id": "671b7813",
   "metadata": {
    "id": "671b7813",
    "outputId": "70f2518b-841e-4465-e695-ce96985bc871"
   },
   "outputs": [
    {
     "name": "stderr",
     "output_type": "stream",
     "text": [
      "<ipython-input-3-6c6517192552>:2: FutureWarning: The default value of regex will change from True to False in a future version. In addition, single character regular expressions will*not* be treated as literal strings when regex=True.\n",
      "  df['Salary_Estimate'] = df['Salary_Estimate'].str.replace('$', '')\n",
      "<ipython-input-3-6c6517192552>:4: FutureWarning: The default value of regex will change from True to False in a future version.\n",
      "  df['Salary_Estimate'] = df['Salary_Estimate'].str.replace('(Glassdoor est.)', '')\n",
      "<ipython-input-3-6c6517192552>:5: FutureWarning: The default value of regex will change from True to False in a future version. In addition, single character regular expressions will*not* be treated as literal strings when regex=True.\n",
      "  df['Salary_Estimate'] = df['Salary_Estimate'].str.replace('(', '')\n",
      "<ipython-input-3-6c6517192552>:6: FutureWarning: The default value of regex will change from True to False in a future version. In addition, single character regular expressions will*not* be treated as literal strings when regex=True.\n",
      "  df['Salary_Estimate'] = df['Salary_Estimate'].str.replace(')', '')\n"
     ]
    }
   ],
   "source": [
    "## clean the salary column\n",
    "df['Salary_Estimate'] = df['Salary_Estimate'].str.replace('$', '')\n",
    "df['Salary_Estimate'] = df['Salary_Estimate'].str.replace('K', '')\n",
    "df['Salary_Estimate'] = df['Salary_Estimate'].str.replace('(Glassdoor est.)', '')\n",
    "df['Salary_Estimate'] = df['Salary_Estimate'].str.replace('(', '')\n",
    "df['Salary_Estimate'] = df['Salary_Estimate'].str.replace(')', '')\n",
    "df['Salary_Estimate'] = df['Salary_Estimate'].str.replace(' ', '')\n",
    "df['Salary_Estimate'] = df['Salary_Estimate'].str.split('-')\n",
    "# df['Salary_Estimate'] = (df['Salary_Estimate'].str[0].astype(int) + df['Salary_Estimate'].str[1].astype(int))/2"
   ]
  },
  {
   "cell_type": "code",
   "execution_count": 4,
   "id": "163f8b1f",
   "metadata": {
    "id": "163f8b1f"
   },
   "outputs": [],
   "source": [
    "## functions\n",
    "# make the salary numeric\n",
    "def salary(x):\n",
    "    if len(x) == 2:\n",
    "        if x[0] == '':\n",
    "            return int(x[1])\n",
    "        else:\n",
    "            ans = (int(x[0]) + int(x[1])) / 2\n",
    "            return ans\n",
    "    else:\n",
    "        return x\n",
    "# identify if the job title is for senior or not\n",
    "def senior(x):\n",
    "    if 'senior' in x.lower():\n",
    "        return 1\n",
    "    else:\n",
    "        return 0"
   ]
  },
  {
   "cell_type": "code",
   "execution_count": 5,
   "id": "80e5f738",
   "metadata": {
    "id": "80e5f738",
    "outputId": "038f12a0-03f4-442c-b317-3b0ddbe4ee16",
    "scrolled": true
   },
   "outputs": [
    {
     "data": {
      "text/plain": [
       "Index(['Unnamed:_0', 'Job_Title', 'Salary_Estimate', 'Job_Description',\n",
       "       'Rating', 'Company_Name', 'Location', 'Headquarters', 'Size', 'Founded',\n",
       "       'Type_of_ownership', 'Industry', 'Sector', 'Revenue', 'Competitors',\n",
       "       'Easy_Apply', 'Senior'],\n",
       "      dtype='object')"
      ]
     },
     "execution_count": 5,
     "metadata": {},
     "output_type": "execute_result"
    }
   ],
   "source": [
    "# applying the functions from above to the dataframe\n",
    "df['Salary_Estimate'] = df['Salary_Estimate'].apply(lambda x: salary(x))\n",
    "df['Senior'] = df['Job_Title'].apply(lambda x: senior(x))\n",
    "df.columns"
   ]
  },
  {
   "cell_type": "code",
   "execution_count": 6,
   "id": "86a50f44",
   "metadata": {
    "id": "86a50f44"
   },
   "outputs": [],
   "source": [
    "## clean the company_name\n",
    "df['Company_Name'] = df['Company_Name'].map(lambda x:str(x).split('\\n')[0])"
   ]
  },
  {
   "cell_type": "code",
   "execution_count": 7,
   "id": "c7fd9cb5",
   "metadata": {
    "id": "c7fd9cb5",
    "outputId": "5f4cd15b-3754-4c02-94cc-ffb3577e81eb",
    "scrolled": true
   },
   "outputs": [
    {
     "data": {
      "text/html": [
       "<div>\n",
       "<style scoped>\n",
       "    .dataframe tbody tr th:only-of-type {\n",
       "        vertical-align: middle;\n",
       "    }\n",
       "\n",
       "    .dataframe tbody tr th {\n",
       "        vertical-align: top;\n",
       "    }\n",
       "\n",
       "    .dataframe thead th {\n",
       "        text-align: right;\n",
       "    }\n",
       "</style>\n",
       "<table border=\"1\" class=\"dataframe\">\n",
       "  <thead>\n",
       "    <tr style=\"text-align: right;\">\n",
       "      <th></th>\n",
       "      <th>Unnamed:_0</th>\n",
       "      <th>Job_Title</th>\n",
       "      <th>Salary_Estimate</th>\n",
       "      <th>Job_Description</th>\n",
       "      <th>Rating</th>\n",
       "      <th>Company_Name</th>\n",
       "      <th>Location</th>\n",
       "      <th>Headquarters</th>\n",
       "      <th>Size</th>\n",
       "      <th>Founded</th>\n",
       "      <th>Type_of_ownership</th>\n",
       "      <th>Industry</th>\n",
       "      <th>Sector</th>\n",
       "      <th>Revenue</th>\n",
       "      <th>Competitors</th>\n",
       "      <th>Easy_Apply</th>\n",
       "      <th>Senior</th>\n",
       "      <th>Location_code</th>\n",
       "    </tr>\n",
       "  </thead>\n",
       "  <tbody>\n",
       "    <tr>\n",
       "      <th>225</th>\n",
       "      <td>225</td>\n",
       "      <td>Client Service Data Analyst</td>\n",
       "      <td>59.5</td>\n",
       "      <td>Our Client a Global Japanese Investment Bank i...</td>\n",
       "      <td>4.1</td>\n",
       "      <td>Phyton Talent Advisors</td>\n",
       "      <td>New York, NY</td>\n",
       "      <td>New York, NY</td>\n",
       "      <td>1 to 50 employees</td>\n",
       "      <td>-1</td>\n",
       "      <td>Company - Private</td>\n",
       "      <td>-1</td>\n",
       "      <td>-1</td>\n",
       "      <td>Unknown / Non-Applicable</td>\n",
       "      <td>-1</td>\n",
       "      <td>-1</td>\n",
       "      <td>0</td>\n",
       "      <td>NY</td>\n",
       "    </tr>\n",
       "    <tr>\n",
       "      <th>2153</th>\n",
       "      <td>2153</td>\n",
       "      <td>Data Analyst Junior</td>\n",
       "      <td>44.0</td>\n",
       "      <td>Job Description\\nJob description\\nInterpret da...</td>\n",
       "      <td>5.0</td>\n",
       "      <td>Staffigo Technical Services, LLC</td>\n",
       "      <td>Athens, GA</td>\n",
       "      <td>Woodridge, IL</td>\n",
       "      <td>51 to 200 employees</td>\n",
       "      <td>2008</td>\n",
       "      <td>Company - Private</td>\n",
       "      <td>IT Services</td>\n",
       "      <td>Information Technology</td>\n",
       "      <td>$50 to $100 million (USD)</td>\n",
       "      <td>-1</td>\n",
       "      <td>-1</td>\n",
       "      <td>0</td>\n",
       "      <td>GA</td>\n",
       "    </tr>\n",
       "    <tr>\n",
       "      <th>186</th>\n",
       "      <td>186</td>\n",
       "      <td>Data Analyst</td>\n",
       "      <td>85.0</td>\n",
       "      <td>About Capgemini Capgemini is a global leader i...</td>\n",
       "      <td>-1.0</td>\n",
       "      <td>Capgemini America, Inc.</td>\n",
       "      <td>Jersey City, NJ</td>\n",
       "      <td>-1</td>\n",
       "      <td>-1</td>\n",
       "      <td>-1</td>\n",
       "      <td>-1</td>\n",
       "      <td>-1</td>\n",
       "      <td>-1</td>\n",
       "      <td>-1</td>\n",
       "      <td>-1</td>\n",
       "      <td>-1</td>\n",
       "      <td>0</td>\n",
       "      <td>NJ</td>\n",
       "    </tr>\n",
       "  </tbody>\n",
       "</table>\n",
       "</div>"
      ],
      "text/plain": [
       "      Unnamed:_0                    Job_Title  Salary_Estimate  \\\n",
       "225          225  Client Service Data Analyst             59.5   \n",
       "2153        2153          Data Analyst Junior             44.0   \n",
       "186          186                 Data Analyst             85.0   \n",
       "\n",
       "                                        Job_Description  Rating  \\\n",
       "225   Our Client a Global Japanese Investment Bank i...     4.1   \n",
       "2153  Job Description\\nJob description\\nInterpret da...     5.0   \n",
       "186   About Capgemini Capgemini is a global leader i...    -1.0   \n",
       "\n",
       "                          Company_Name         Location   Headquarters  \\\n",
       "225             Phyton Talent Advisors     New York, NY   New York, NY   \n",
       "2153  Staffigo Technical Services, LLC       Athens, GA  Woodridge, IL   \n",
       "186            Capgemini America, Inc.  Jersey City, NJ             -1   \n",
       "\n",
       "                     Size  Founded  Type_of_ownership     Industry  \\\n",
       "225     1 to 50 employees       -1  Company - Private           -1   \n",
       "2153  51 to 200 employees     2008  Company - Private  IT Services   \n",
       "186                    -1       -1                 -1           -1   \n",
       "\n",
       "                      Sector                    Revenue Competitors  \\\n",
       "225                       -1   Unknown / Non-Applicable          -1   \n",
       "2153  Information Technology  $50 to $100 million (USD)          -1   \n",
       "186                       -1                         -1          -1   \n",
       "\n",
       "     Easy_Apply  Senior Location_code  \n",
       "225          -1       0            NY  \n",
       "2153         -1       0            GA  \n",
       "186          -1       0            NJ  "
      ]
     },
     "execution_count": 7,
     "metadata": {},
     "output_type": "execute_result"
    }
   ],
   "source": [
    "## get the state code\n",
    "df['Location_code'] = df['Location'].map(lambda x:x.split(', ')[1])\n",
    "df.sample(3)"
   ]
  },
  {
   "cell_type": "code",
   "execution_count": 8,
   "id": "6836bd01",
   "metadata": {
    "id": "6836bd01"
   },
   "outputs": [],
   "source": [
    "df.loc[df['Location_code']=='Arapahoe','Location_code'] = 'CO'"
   ]
  },
  {
   "cell_type": "code",
   "execution_count": 9,
   "id": "4a9b7b8e",
   "metadata": {
    "id": "4a9b7b8e",
    "outputId": "bd4681a9-38e6-4f38-c479-bb401960438b",
    "scrolled": true
   },
   "outputs": [
    {
     "data": {
      "text/plain": [
       "array(['NY', 'NJ', 'UT', 'CA', 'VA', 'FL', 'IL', 'TX', 'AZ', 'PA', 'DE',\n",
       "       'OH', 'NC', 'SC', 'IN', 'WA', 'GA', 'KS', 'CO'], dtype=object)"
      ]
     },
     "execution_count": 9,
     "metadata": {},
     "output_type": "execute_result"
    }
   ],
   "source": [
    "df['Location_code'].unique()"
   ]
  },
  {
   "cell_type": "code",
   "execution_count": 10,
   "id": "bddd6e28",
   "metadata": {
    "id": "bddd6e28",
    "outputId": "181db2fc-bca9-48c1-a60d-8412637b1d8a",
    "scrolled": true
   },
   "outputs": [
    {
     "data": {
      "text/plain": [
       "19"
      ]
     },
     "execution_count": 10,
     "metadata": {},
     "output_type": "execute_result"
    }
   ],
   "source": [
    "len(df['Location_code'].unique())"
   ]
  },
  {
   "cell_type": "code",
   "execution_count": 11,
   "id": "3ac22985",
   "metadata": {
    "id": "3ac22985"
   },
   "outputs": [],
   "source": [
    "## clean the size\n",
    "df['Size_new'] = df['Size'].map({'201 to 500 employees':350,\n",
    "                                '10000+ employees':10000,\n",
    "                                '1001 to 5000 employees':3000,\n",
    "                                '501 to 1000 employees':750,\n",
    "                                '5001 to 10000 employees':7500,\n",
    "                                '1 to 50 employees':25,\n",
    "                                '51 to 200 employees':125,\n",
    "                                'Unknown':-1,\n",
    "                                '-1':-1})"
   ]
  },
  {
   "cell_type": "code",
   "execution_count": null,
   "id": "d38d9144",
   "metadata": {
    "id": "d38d9144",
    "outputId": "60c32baa-1939-476c-c538-30c690f62f6c",
    "scrolled": false
   },
   "outputs": [],
   "source": [
    "df['Revenue'].unique()"
   ]
  },
  {
   "cell_type": "code",
   "execution_count": 12,
   "id": "dc3ec72b",
   "metadata": {
    "id": "dc3ec72b"
   },
   "outputs": [
    {
     "data": {
      "text/html": [
       "<div>\n",
       "<style scoped>\n",
       "    .dataframe tbody tr th:only-of-type {\n",
       "        vertical-align: middle;\n",
       "    }\n",
       "\n",
       "    .dataframe tbody tr th {\n",
       "        vertical-align: top;\n",
       "    }\n",
       "\n",
       "    .dataframe thead th {\n",
       "        text-align: right;\n",
       "    }\n",
       "</style>\n",
       "<table border=\"1\" class=\"dataframe\">\n",
       "  <thead>\n",
       "    <tr style=\"text-align: right;\">\n",
       "      <th></th>\n",
       "      <th>Unnamed:_0</th>\n",
       "      <th>Job_Title</th>\n",
       "      <th>Salary_Estimate</th>\n",
       "      <th>Job_Description</th>\n",
       "      <th>Rating</th>\n",
       "      <th>Company_Name</th>\n",
       "      <th>Location</th>\n",
       "      <th>Headquarters</th>\n",
       "      <th>Size</th>\n",
       "      <th>Founded</th>\n",
       "      <th>Type_of_ownership</th>\n",
       "      <th>Industry</th>\n",
       "      <th>Sector</th>\n",
       "      <th>Revenue</th>\n",
       "      <th>Competitors</th>\n",
       "      <th>Easy_Apply</th>\n",
       "      <th>Senior</th>\n",
       "      <th>Location_code</th>\n",
       "      <th>Size_new</th>\n",
       "      <th>Revenue_new</th>\n",
       "    </tr>\n",
       "  </thead>\n",
       "  <tbody>\n",
       "    <tr>\n",
       "      <th>0</th>\n",
       "      <td>0</td>\n",
       "      <td>Data Analyst, Center on Immigration and Justic...</td>\n",
       "      <td>51.5</td>\n",
       "      <td>Are you eager to roll up your sleeves and harn...</td>\n",
       "      <td>3.2</td>\n",
       "      <td>Vera Institute of Justice</td>\n",
       "      <td>New York, NY</td>\n",
       "      <td>New York, NY</td>\n",
       "      <td>201 to 500 employees</td>\n",
       "      <td>1961</td>\n",
       "      <td>Nonprofit Organization</td>\n",
       "      <td>Social Assistance</td>\n",
       "      <td>Non-Profit</td>\n",
       "      <td>$100 to $500 million (USD)</td>\n",
       "      <td>-1</td>\n",
       "      <td>True</td>\n",
       "      <td>0</td>\n",
       "      <td>NY</td>\n",
       "      <td>350</td>\n",
       "      <td>300.0</td>\n",
       "    </tr>\n",
       "    <tr>\n",
       "      <th>1</th>\n",
       "      <td>1</td>\n",
       "      <td>Quality Data Analyst</td>\n",
       "      <td>51.5</td>\n",
       "      <td>Overview\\n\\nProvides analytical and technical ...</td>\n",
       "      <td>3.8</td>\n",
       "      <td>Visiting Nurse Service of New York</td>\n",
       "      <td>New York, NY</td>\n",
       "      <td>New York, NY</td>\n",
       "      <td>10000+ employees</td>\n",
       "      <td>1893</td>\n",
       "      <td>Nonprofit Organization</td>\n",
       "      <td>Health Care Services &amp; Hospitals</td>\n",
       "      <td>Health Care</td>\n",
       "      <td>$2 to $5 billion (USD)</td>\n",
       "      <td>-1</td>\n",
       "      <td>-1</td>\n",
       "      <td>0</td>\n",
       "      <td>NY</td>\n",
       "      <td>10000</td>\n",
       "      <td>3500.0</td>\n",
       "    </tr>\n",
       "    <tr>\n",
       "      <th>2</th>\n",
       "      <td>2</td>\n",
       "      <td>Senior Data Analyst, Insights &amp; Analytics Team...</td>\n",
       "      <td>51.5</td>\n",
       "      <td>We’re looking for a Senior Data Analyst who ha...</td>\n",
       "      <td>3.4</td>\n",
       "      <td>Squarespace</td>\n",
       "      <td>New York, NY</td>\n",
       "      <td>New York, NY</td>\n",
       "      <td>1001 to 5000 employees</td>\n",
       "      <td>2003</td>\n",
       "      <td>Company - Private</td>\n",
       "      <td>Internet</td>\n",
       "      <td>Information Technology</td>\n",
       "      <td>Unknown / Non-Applicable</td>\n",
       "      <td>GoDaddy</td>\n",
       "      <td>-1</td>\n",
       "      <td>1</td>\n",
       "      <td>NY</td>\n",
       "      <td>3000</td>\n",
       "      <td>-1.0</td>\n",
       "    </tr>\n",
       "    <tr>\n",
       "      <th>3</th>\n",
       "      <td>3</td>\n",
       "      <td>Data Analyst</td>\n",
       "      <td>51.5</td>\n",
       "      <td>Requisition NumberRR-0001939\\nRemote:Yes\\nWe c...</td>\n",
       "      <td>4.1</td>\n",
       "      <td>Celerity</td>\n",
       "      <td>New York, NY</td>\n",
       "      <td>McLean, VA</td>\n",
       "      <td>201 to 500 employees</td>\n",
       "      <td>2002</td>\n",
       "      <td>Subsidiary or Business Segment</td>\n",
       "      <td>IT Services</td>\n",
       "      <td>Information Technology</td>\n",
       "      <td>$50 to $100 million (USD)</td>\n",
       "      <td>-1</td>\n",
       "      <td>-1</td>\n",
       "      <td>0</td>\n",
       "      <td>NY</td>\n",
       "      <td>350</td>\n",
       "      <td>75.0</td>\n",
       "    </tr>\n",
       "    <tr>\n",
       "      <th>4</th>\n",
       "      <td>4</td>\n",
       "      <td>Reporting Data Analyst</td>\n",
       "      <td>51.5</td>\n",
       "      <td>ABOUT FANDUEL GROUP\\n\\nFanDuel Group is a worl...</td>\n",
       "      <td>3.9</td>\n",
       "      <td>FanDuel</td>\n",
       "      <td>New York, NY</td>\n",
       "      <td>New York, NY</td>\n",
       "      <td>501 to 1000 employees</td>\n",
       "      <td>2009</td>\n",
       "      <td>Company - Private</td>\n",
       "      <td>Sports &amp; Recreation</td>\n",
       "      <td>Arts, Entertainment &amp; Recreation</td>\n",
       "      <td>$100 to $500 million (USD)</td>\n",
       "      <td>DraftKings</td>\n",
       "      <td>True</td>\n",
       "      <td>0</td>\n",
       "      <td>NY</td>\n",
       "      <td>750</td>\n",
       "      <td>300.0</td>\n",
       "    </tr>\n",
       "  </tbody>\n",
       "</table>\n",
       "</div>"
      ],
      "text/plain": [
       "   Unnamed:_0                                          Job_Title  \\\n",
       "0           0  Data Analyst, Center on Immigration and Justic...   \n",
       "1           1                               Quality Data Analyst   \n",
       "2           2  Senior Data Analyst, Insights & Analytics Team...   \n",
       "3           3                                       Data Analyst   \n",
       "4           4                             Reporting Data Analyst   \n",
       "\n",
       "   Salary_Estimate                                    Job_Description  Rating  \\\n",
       "0             51.5  Are you eager to roll up your sleeves and harn...     3.2   \n",
       "1             51.5  Overview\\n\\nProvides analytical and technical ...     3.8   \n",
       "2             51.5  We’re looking for a Senior Data Analyst who ha...     3.4   \n",
       "3             51.5  Requisition NumberRR-0001939\\nRemote:Yes\\nWe c...     4.1   \n",
       "4             51.5  ABOUT FANDUEL GROUP\\n\\nFanDuel Group is a worl...     3.9   \n",
       "\n",
       "                         Company_Name      Location  Headquarters  \\\n",
       "0           Vera Institute of Justice  New York, NY  New York, NY   \n",
       "1  Visiting Nurse Service of New York  New York, NY  New York, NY   \n",
       "2                         Squarespace  New York, NY  New York, NY   \n",
       "3                            Celerity  New York, NY    McLean, VA   \n",
       "4                             FanDuel  New York, NY  New York, NY   \n",
       "\n",
       "                     Size  Founded               Type_of_ownership  \\\n",
       "0    201 to 500 employees     1961          Nonprofit Organization   \n",
       "1        10000+ employees     1893          Nonprofit Organization   \n",
       "2  1001 to 5000 employees     2003               Company - Private   \n",
       "3    201 to 500 employees     2002  Subsidiary or Business Segment   \n",
       "4   501 to 1000 employees     2009               Company - Private   \n",
       "\n",
       "                           Industry                            Sector  \\\n",
       "0                 Social Assistance                        Non-Profit   \n",
       "1  Health Care Services & Hospitals                       Health Care   \n",
       "2                          Internet            Information Technology   \n",
       "3                       IT Services            Information Technology   \n",
       "4               Sports & Recreation  Arts, Entertainment & Recreation   \n",
       "\n",
       "                      Revenue Competitors Easy_Apply  Senior Location_code  \\\n",
       "0  $100 to $500 million (USD)          -1       True       0            NY   \n",
       "1      $2 to $5 billion (USD)          -1         -1       0            NY   \n",
       "2    Unknown / Non-Applicable     GoDaddy         -1       1            NY   \n",
       "3   $50 to $100 million (USD)          -1         -1       0            NY   \n",
       "4  $100 to $500 million (USD)  DraftKings       True       0            NY   \n",
       "\n",
       "   Size_new  Revenue_new  \n",
       "0       350        300.0  \n",
       "1     10000       3500.0  \n",
       "2      3000         -1.0  \n",
       "3       350         75.0  \n",
       "4       750        300.0  "
      ]
     },
     "execution_count": 12,
     "metadata": {},
     "output_type": "execute_result"
    }
   ],
   "source": [
    "## clean the revenue\n",
    "df['Revenue_new'] = df['Revenue'].map({'$100 to $500 million (USD)':300,\n",
    "                                    '$2 to $5 billion (USD)':3500,\n",
    "                                    'Unknown / Non-Applicable':-1,\n",
    "                                    '$50 to $100 million (USD)':75,\n",
    "                                    '$1 to $2 billion (USD)':1500,\n",
    "                                    '$5 to $10 billion (USD)':7500,\n",
    "                                    '$1 to $5 million (USD)':3,\n",
    "                                    '$25 to $50 million (USD)':37.5,\n",
    "                                    '$10+ billion (USD)':10000,\n",
    "                                    'Less than $1 million (USD)':1,\n",
    "                                    '$10 to $25 million (USD)':17.5,\n",
    "                                    '-1':-1,\n",
    "                                    '$500 million to $1 billion (USD)':750,\n",
    "                                    '$5 to $10 million (USD)':7.5})\n",
    "df.head()"
   ]
  },
  {
   "cell_type": "code",
   "execution_count": 13,
   "id": "586ab194",
   "metadata": {
    "id": "586ab194",
    "outputId": "885cf485-3038-4f71-d1cd-36c0435b72ca"
   },
   "outputs": [
    {
     "name": "stderr",
     "output_type": "stream",
     "text": [
      "<ipython-input-13-c9d4d4a513f5>:11: SettingWithCopyWarning: \n",
      "A value is trying to be set on a copy of a slice from a DataFrame\n",
      "\n",
      "See the caveats in the documentation: https://pandas.pydata.org/pandas-docs/stable/user_guide/indexing.html#returning-a-view-versus-a-copy\n",
      "  df[s][i]=flag\n"
     ]
    }
   ],
   "source": [
    "## exploring skills\n",
    "skills = ['SQL','Python','Machine Learning']\n",
    "for s in skills:\n",
    "    df[s] = None\n",
    "    for i in range(df.shape[0]):\n",
    "        m = re.search(f'(.*){s}', df['Job_Description'][i],re.IGNORECASE)\n",
    "        if m:\n",
    "            flag = 1\n",
    "        else:\n",
    "            flag = 0\n",
    "        df[s][i]=flag"
   ]
  },
  {
   "cell_type": "code",
   "execution_count": 14,
   "id": "01dac043",
   "metadata": {
    "id": "01dac043",
    "outputId": "5e498f77-860c-4337-cc0e-c29f512a8e70"
   },
   "outputs": [
    {
     "data": {
      "text/plain": [
       "1    1389\n",
       "0     864\n",
       "Name: SQL, dtype: int64"
      ]
     },
     "execution_count": 14,
     "metadata": {},
     "output_type": "execute_result"
    }
   ],
   "source": [
    "df['SQL'].value_counts()"
   ]
  },
  {
   "cell_type": "code",
   "execution_count": 15,
   "id": "1c487e5b",
   "metadata": {
    "id": "1c487e5b",
    "outputId": "37394818-8d43-4a44-bc61-074175a05a67"
   },
   "outputs": [
    {
     "data": {
      "text/plain": [
       "0    1616\n",
       "1     637\n",
       "Name: Python, dtype: int64"
      ]
     },
     "execution_count": 15,
     "metadata": {},
     "output_type": "execute_result"
    }
   ],
   "source": [
    "df['Python'].value_counts()"
   ]
  },
  {
   "cell_type": "code",
   "execution_count": 16,
   "id": "3809cd1d",
   "metadata": {
    "id": "3809cd1d",
    "outputId": "ca9d17f0-f855-41d3-b4bb-d7be0412af70",
    "scrolled": true
   },
   "outputs": [
    {
     "data": {
      "text/plain": [
       "0    2073\n",
       "1     180\n",
       "Name: Machine Learning, dtype: int64"
      ]
     },
     "execution_count": 16,
     "metadata": {},
     "output_type": "execute_result"
    }
   ],
   "source": [
    "df['Machine Learning'].value_counts()"
   ]
  },
  {
   "cell_type": "code",
   "execution_count": null,
   "id": "a5722cb0",
   "metadata": {
    "id": "a5722cb0"
   },
   "outputs": [],
   "source": [
    "graph = pd.DataFrame({'SQL':[df['SQL'].value_counts()[0]],\n",
    "                     'Python':[df['Python'].value_counts()[1]],\n",
    "                     'Machine Learning': [df['Machine Learning'].value_counts()[1]]})"
   ]
  },
  {
   "cell_type": "code",
   "execution_count": null,
   "id": "1c48c240",
   "metadata": {
    "id": "1c48c240",
    "outputId": "802d8709-e590-497a-8ad6-28c80ceeeb7e"
   },
   "outputs": [],
   "source": [
    "graph"
   ]
  },
  {
   "cell_type": "code",
   "execution_count": null,
   "id": "d2176ab4",
   "metadata": {
    "id": "d2176ab4",
    "outputId": "42eecb42-51c4-426a-efe1-da3b4fe6ba44",
    "scrolled": true
   },
   "outputs": [],
   "source": [
    "ax = sns.barplot(data=graph,palette=\"Paired\")"
   ]
  },
  {
   "cell_type": "code",
   "execution_count": null,
   "id": "7e308855",
   "metadata": {
    "id": "7e308855",
    "scrolled": true
   },
   "outputs": [],
   "source": [
    "## prepare the dataset for the plot\n",
    "Job_Loc = df.groupby('Location_code')[['Salary_Estimate']].count()\n",
    "Job_Loc = Job_Loc.rename(columns={'Salary_Estimate':'Num_Jobs'})"
   ]
  },
  {
   "cell_type": "code",
   "execution_count": null,
   "id": "cfcf877d",
   "metadata": {
    "id": "cfcf877d",
    "outputId": "2f38c41a-4c14-4fa3-fb16-b266e4dff76a"
   },
   "outputs": [],
   "source": [
    "Job_Loc.sort_values(by='Num_Jobs',ascending=False)"
   ]
  },
  {
   "cell_type": "code",
   "execution_count": null,
   "id": "a09c2063",
   "metadata": {
    "id": "a09c2063",
    "outputId": "284676a8-c381-4fee-9c12-0006c64bf7b2"
   },
   "outputs": [],
   "source": [
    "import plotly.graph_objects as go\n",
    "fig = go.Figure(data=go.Choropleth( \n",
    "    locations=Job_Loc.index,\n",
    "    z = Job_Loc['Num_Jobs'],\n",
    "    locationmode = 'USA-states',\n",
    "    colorscale = 'Blue', \n",
    "    colorbar_title = '# of jobs',\n",
    ")) \n",
    "fig.update_layout( \n",
    "    title_text = '# of Data-related jobs in the US',\n",
    "    geo_scope='usa'\n",
    ") \n",
    "fig.show()"
   ]
  },
  {
   "cell_type": "code",
   "execution_count": null,
   "id": "a3dcd1bb",
   "metadata": {
    "id": "a3dcd1bb"
   },
   "outputs": [],
   "source": [
    "Loc_Mean_Sal = df.groupby('Location_code')[['Salary_Estimate']].mean()\n",
    "Loc_Mean_Sal = Loc_Mean_Sal.rename(columns={'Salary_Estimate':'Average_Salary'})"
   ]
  },
  {
   "cell_type": "code",
   "execution_count": null,
   "id": "031f7ea7",
   "metadata": {
    "id": "031f7ea7",
    "outputId": "ebbf3ff4-89e5-44ca-8322-2a6a7bc21b1d"
   },
   "outputs": [],
   "source": [
    "Loc_Mean_Sal.sort_values(by='Average_Salary',ascending=False)"
   ]
  },
  {
   "cell_type": "code",
   "execution_count": null,
   "id": "fcd46d17",
   "metadata": {
    "id": "fcd46d17",
    "outputId": "4ba9cb9e-cabe-46d2-cceb-4ce4582ac77c"
   },
   "outputs": [],
   "source": [
    "fig = go.Figure(data=go.Choropleth( \n",
    "    locations=Loc_Mean_Sal.index,\n",
    "    z = Loc_Mean_Sal['Average_Salary'],\n",
    "    locationmode = 'USA-states',\n",
    "    colorscale = 'Reds', \n",
    "    colorbar_title = 'Average Salary (K)',\n",
    ")) \n",
    "fig.update_layout( \n",
    "    title_text = 'Average salary for Data-related jobs in the US',\n",
    "    geo_scope='usa'\n",
    ") \n",
    "fig.show()"
   ]
  },
  {
   "cell_type": "markdown",
   "id": "2cf33d20",
   "metadata": {
    "id": "2cf33d20"
   },
   "source": [
    "# Data of three main states"
   ]
  },
  {
   "cell_type": "markdown",
   "id": "39597d81",
   "metadata": {
    "id": "39597d81"
   },
   "source": [
    "## CA"
   ]
  },
  {
   "cell_type": "code",
   "execution_count": null,
   "id": "af4f2ab6",
   "metadata": {
    "id": "af4f2ab6"
   },
   "outputs": [],
   "source": [
    "CA = df[df['Location_code']=='CA']\n",
    "CA_data_1 = CA.groupby('Sector')['Sector'].count().sort_values(ascending=False).to_frame()"
   ]
  },
  {
   "cell_type": "code",
   "execution_count": null,
   "id": "9b110752",
   "metadata": {
    "id": "9b110752",
    "scrolled": true
   },
   "outputs": [],
   "source": [
    "CA = df[df['Location_code']=='CA']\n",
    "CA_data_2 = CA.groupby('Sector')['Salary_Estimate'].mean().sort_values(ascending=False).to_frame()"
   ]
  },
  {
   "cell_type": "code",
   "execution_count": null,
   "id": "63b4af09",
   "metadata": {
    "id": "63b4af09",
    "outputId": "77229941-51f9-4c4f-8b75-53b1bf6b5b60"
   },
   "outputs": [],
   "source": [
    "CA_merge = CA_data_1.merge(CA_data_2,left_on = CA_data_1.index,right_on = CA_data_2.index)\n",
    "CA_merge.rename(columns = {'key_0':'Sector','Sector':'Count','Salary_Estimate':'Average Salary'},inplace=True)\n",
    "CA_merge.sort_values(by='Average Salary',ascending=False)"
   ]
  },
  {
   "cell_type": "markdown",
   "id": "228c2569",
   "metadata": {
    "id": "228c2569"
   },
   "source": [
    "## NY"
   ]
  },
  {
   "cell_type": "code",
   "execution_count": null,
   "id": "7e3f36db",
   "metadata": {
    "id": "7e3f36db"
   },
   "outputs": [],
   "source": [
    "NY = df[df['Location_code']=='NY']\n",
    "NY_data_1 = NY.groupby('Sector')['Sector'].count().sort_values(ascending=False).to_frame()"
   ]
  },
  {
   "cell_type": "code",
   "execution_count": null,
   "id": "2e882086",
   "metadata": {
    "id": "2e882086",
    "scrolled": true
   },
   "outputs": [],
   "source": [
    "NY = df[df['Location_code']=='NY']\n",
    "NY_data_2 = NY.groupby('Sector')['Salary_Estimate'].mean().sort_values(ascending=False).to_frame()"
   ]
  },
  {
   "cell_type": "code",
   "execution_count": null,
   "id": "30bbd9e8",
   "metadata": {
    "id": "30bbd9e8",
    "outputId": "18f5e038-2190-4405-ff29-b5834f247c85"
   },
   "outputs": [],
   "source": [
    "NY_merge = NY_data_1.merge(NY_data_2,left_on = NY_data_1.index,right_on = NY_data_2.index)\n",
    "NY_merge.rename(columns = {'key_0':'Sector','Sector':'Count','Salary_Estimate':'Average Salary'},inplace=True)\n",
    "NY_merge.sort_values(by='Average Salary',ascending=False)"
   ]
  },
  {
   "cell_type": "markdown",
   "id": "825fda2f",
   "metadata": {
    "id": "825fda2f"
   },
   "source": [
    "## TX"
   ]
  },
  {
   "cell_type": "code",
   "execution_count": null,
   "id": "5ffafcc2",
   "metadata": {
    "id": "5ffafcc2"
   },
   "outputs": [],
   "source": [
    "TX = df[df['Location_code']=='TX']\n",
    "TX_data_1 = TX.groupby('Sector')['Sector'].count().sort_values(ascending=False).to_frame()"
   ]
  },
  {
   "cell_type": "code",
   "execution_count": null,
   "id": "87eb6b6c",
   "metadata": {
    "id": "87eb6b6c"
   },
   "outputs": [],
   "source": [
    "TX = df[df['Location_code']=='TX']\n",
    "TX_data_2 = TX.groupby('Sector')['Salary_Estimate'].mean().sort_values(ascending=False).to_frame()"
   ]
  },
  {
   "cell_type": "code",
   "execution_count": null,
   "id": "0b44e10d",
   "metadata": {
    "id": "0b44e10d",
    "outputId": "c862597d-f238-4188-c98c-51c4e8aa1324"
   },
   "outputs": [],
   "source": [
    "TX_merge = TX_data_1.merge(TX_data_2,left_on = TX_data_1.index,right_on = TX_data_2.index)\n",
    "TX_merge.rename(columns = {'key_0':'Sector','Sector':'Count','Salary_Estimate':'Average Salary'},inplace=True)\n",
    "TX_merge.sort_values(by='Average Salary',ascending=False)"
   ]
  },
  {
   "cell_type": "markdown",
   "id": "dd229975",
   "metadata": {
    "id": "dd229975"
   },
   "source": [
    "# Stats"
   ]
  },
  {
   "cell_type": "markdown",
   "id": "f388a8f3",
   "metadata": {
    "id": "f388a8f3"
   },
   "source": [
    "## t-tests"
   ]
  },
  {
   "cell_type": "code",
   "execution_count": null,
   "id": "917aa1ea",
   "metadata": {
    "id": "917aa1ea"
   },
   "outputs": [],
   "source": [
    "def state(x, y):\n",
    "   ca = df[df['Location'].str.contains(x)]\n",
    "   mean = ca['Salary_Estimate'].mean()\n",
    "   ca_mean = ca.groupby('Sector').Salary_Estimate.mean().to_frame()\n",
    "   ca_std = ca.groupby('Sector').Salary_Estimate.std().to_frame()\n",
    "   ca_cnt = ca.groupby('Sector').Salary_Estimate.count().to_frame()\n",
    "   ca1 = ca_mean.merge(ca_std, left_on = 'Sector', right_on = 'Sector', how = 'inner')\n",
    "   ca_merge = ca1.merge(ca_cnt, left_on = 'Sector', right_on = 'Sector', how = 'inner')\n",
    "   ca_merge = ca_merge.rename(columns={\"Salary_Estimate_x\": \"Salary_Estimate\", \"Salary_Estimate_y\": \"std\", \"Salary_Estimate\": \"count\"})\n",
    "   ca_merge = ca_merge[(ca_merge['count'] >= 10) & (ca_merge.index != '-1')].sort_values(by = 'Salary_Estimate', ascending = False)\n",
    "   ca_sector = ca[ca['Sector'] == y]['Salary_Estimate'].to_numpy()\n",
    "   ans = st.ttest_1samp(a=ca_sector, popmean=mean, alternative  = 'greater')\n",
    "   return ca_merge, ans"
   ]
  },
  {
   "cell_type": "code",
   "execution_count": null,
   "id": "333ec9b4",
   "metadata": {
    "id": "333ec9b4",
    "outputId": "6b6d6b8b-2ea0-4e48-bca5-677e6dd45e8d"
   },
   "outputs": [],
   "source": [
    "ca = state('CA', 'Accounting & Legal')\n",
    "ca"
   ]
  },
  {
   "cell_type": "code",
   "execution_count": null,
   "id": "3b182430",
   "metadata": {
    "id": "3b182430",
    "outputId": "b532b38c-63ad-40ff-bfc5-9fedc6e6a2ed"
   },
   "outputs": [],
   "source": [
    "ny = state('NY', 'Business Services')\n",
    "ny"
   ]
  },
  {
   "cell_type": "code",
   "execution_count": null,
   "id": "4b913ad7",
   "metadata": {
    "id": "4b913ad7",
    "outputId": "d54cadce-4277-4d88-8ef8-e93117a7c57c",
    "scrolled": false
   },
   "outputs": [],
   "source": [
    "tx = state('TX', 'Business Services')\n",
    "tx"
   ]
  },
  {
   "cell_type": "markdown",
   "id": "0b5ba9ff",
   "metadata": {
    "id": "0b5ba9ff"
   },
   "source": [
    "## Regression"
   ]
  },
  {
   "cell_type": "code",
   "execution_count": null,
   "id": "5f90609a",
   "metadata": {
    "id": "5f90609a"
   },
   "outputs": [],
   "source": [
    "df[\"ca\"] = [1 if x == \"CA\" else 0 for x in df['Location_code']]"
   ]
  },
  {
   "cell_type": "code",
   "execution_count": null,
   "id": "7f1ba887",
   "metadata": {
    "id": "7f1ba887"
   },
   "outputs": [],
   "source": [
    "df[\"ny\"] = [1 if x == \"NY\" else 0 for x in df['Location_code']]"
   ]
  },
  {
   "cell_type": "code",
   "execution_count": null,
   "id": "c6875d1d",
   "metadata": {
    "id": "c6875d1d"
   },
   "outputs": [],
   "source": [
    "df[\"bs\"] = [1 if x == \"Business Services\" else 0 for x in df['Sector']]"
   ]
  },
  {
   "cell_type": "code",
   "execution_count": null,
   "id": "9aabadf7",
   "metadata": {
    "id": "9aabadf7",
    "outputId": "f301ab8c-f4b1-4cdc-9673-1d781903f18e"
   },
   "outputs": [],
   "source": [
    "df[df['Location_code'].isin(['CA','NY','TX']) & df['Sector'].isin(['Business Services','Accounting & Legal'])]"
   ]
  },
  {
   "cell_type": "markdown",
   "id": "a3a80d1c",
   "metadata": {
    "heading_collapsed": true,
    "id": "a3a80d1c"
   },
   "source": [
    "### Regression 1"
   ]
  },
  {
   "cell_type": "code",
   "execution_count": null,
   "id": "12604abd",
   "metadata": {
    "hidden": true,
    "id": "12604abd",
    "outputId": "4efd08b4-6514-4f62-c283-702df031234b"
   },
   "outputs": [],
   "source": [
    "result = sm.ols(formula=\"Salary_Estimate ~ ca+ny+bs\", \n",
    "                data=df[df['Location_code'].isin(['CA','NY','TX']) & (df['Sector'].isin(['Business Services','Accounting & Legal']))]).fit()\n",
    "print(result.summary())"
   ]
  },
  {
   "cell_type": "markdown",
   "id": "88a98ff4",
   "metadata": {
    "heading_collapsed": true,
    "id": "88a98ff4"
   },
   "source": [
    "### Regression 2"
   ]
  },
  {
   "cell_type": "code",
   "execution_count": null,
   "id": "2c32072d",
   "metadata": {
    "hidden": true,
    "id": "2c32072d",
    "outputId": "6d4abeec-a719-4f71-a110-1662b4aca720",
    "scrolled": true
   },
   "outputs": [],
   "source": [
    "result = sm.ols(formula=\"Salary_Estimate ~ ny*bs+ca*bs\", \n",
    "                data=df[df['Location_code'].isin(['CA','NY','TX']) & (df['Sector'].isin(['Business Services','Accounting & Legal']))]).fit()\n",
    "print(result.summary())"
   ]
  },
  {
   "cell_type": "markdown",
   "id": "f393bec6",
   "metadata": {
    "id": "f393bec6"
   },
   "source": [
    "## Skill sets in job description"
   ]
  },
  {
   "cell_type": "code",
   "execution_count": null,
   "id": "e9def282",
   "metadata": {
    "id": "e9def282"
   },
   "outputs": [],
   "source": [
    "skills = ['SQL','Python','MachineLearning',\n",
    "          'SPSS','MATLAB','SAS','Spark','Hadoop',\n",
    "         'MongoDB','Tableau']\n",
    "data = df[(df['Location_code'].isin(['CA','NY','TX'])) & df['Sector'].isin(['Business Services','Accounting & Legal'])]"
   ]
  },
  {
   "cell_type": "code",
   "execution_count": null,
   "id": "8dfe0db9",
   "metadata": {
    "id": "8dfe0db9"
   },
   "outputs": [],
   "source": [
    "def hardskills(x):\n",
    "    count = 0\n",
    "    for i in skills:\n",
    "        i = i.lower()\n",
    "        if i in x.replace(\"\\n\",\"\").replace(\" \",\"\").lower():\n",
    "            count += 1\n",
    "    return count"
   ]
  },
  {
   "cell_type": "code",
   "execution_count": null,
   "id": "3fed524d",
   "metadata": {
    "id": "3fed524d",
    "outputId": "ffa2ebd9-d40e-418c-e6f7-fe8a1254d73f",
    "scrolled": true
   },
   "outputs": [],
   "source": [
    "data[\"skills\"] = data['Job_Description'].apply(lambda x: hardskills(x))\n",
    "data[\"skills\"]"
   ]
  },
  {
   "cell_type": "code",
   "execution_count": null,
   "id": "8b6575be",
   "metadata": {
    "id": "8b6575be",
    "outputId": "af101e93-3205-4e57-cee5-ebfd62de57e7",
    "scrolled": true
   },
   "outputs": [],
   "source": [
    "data[\"skills\"].value_counts()"
   ]
  },
  {
   "cell_type": "markdown",
   "id": "0e1c3c3b",
   "metadata": {
    "heading_collapsed": true,
    "id": "0e1c3c3b"
   },
   "source": [
    "#### Regression 3"
   ]
  },
  {
   "cell_type": "code",
   "execution_count": null,
   "id": "08fbc10d",
   "metadata": {
    "hidden": true,
    "id": "08fbc10d",
    "outputId": "b1c5e278-932b-404a-f210-65539fb390c0"
   },
   "outputs": [],
   "source": [
    "result = sm.ols(formula=\"Salary_Estimate ~ ny*bs+ca*bs+skills\", \n",
    "                data=data).fit()\n",
    "print(result.summary())"
   ]
  },
  {
   "cell_type": "markdown",
   "id": "f25c1221",
   "metadata": {
    "heading_collapsed": true,
    "id": "f25c1221"
   },
   "source": [
    "#### Regression 4"
   ]
  },
  {
   "cell_type": "code",
   "execution_count": null,
   "id": "0b98ebeb",
   "metadata": {
    "hidden": true,
    "id": "0b98ebeb",
    "outputId": "cec69565-c236-4761-dfad-eaa7e77fdcc0"
   },
   "outputs": [],
   "source": [
    "result = sm.ols(formula=\"Salary_Estimate ~ ny*bs+ca*bs+skills+Size_new\", \n",
    "                data=data).fit()\n",
    "print(result.summary())"
   ]
  },
  {
   "cell_type": "markdown",
   "id": "0c02efd6",
   "metadata": {
    "id": "0c02efd6"
   },
   "source": [
    "#### Regression 5"
   ]
  },
  {
   "cell_type": "code",
   "execution_count": null,
   "id": "90f121ab",
   "metadata": {
    "id": "90f121ab",
    "outputId": "3b9bbf2b-0f3e-47b0-c8fb-8080af48c6f9"
   },
   "outputs": [],
   "source": [
    "data.sample(20)"
   ]
  },
  {
   "cell_type": "code",
   "execution_count": null,
   "id": "21c6d940",
   "metadata": {
    "id": "21c6d940"
   },
   "outputs": [],
   "source": [
    "data5 = data[~(data['Revenue_new']== -1)]"
   ]
  },
  {
   "cell_type": "code",
   "execution_count": null,
   "id": "631a013d",
   "metadata": {
    "id": "631a013d",
    "outputId": "70cf12bc-85bb-48b2-9050-e33928737e47",
    "scrolled": false
   },
   "outputs": [],
   "source": [
    "data5['Revenue_new'].value_counts()"
   ]
  },
  {
   "cell_type": "code",
   "execution_count": null,
   "id": "cb6d09b8",
   "metadata": {
    "id": "cb6d09b8",
    "outputId": "69c60fc7-363a-4da4-e6cb-2afd12885869"
   },
   "outputs": [],
   "source": [
    "data5.sample(20)"
   ]
  },
  {
   "cell_type": "code",
   "execution_count": null,
   "id": "b3696d8d",
   "metadata": {
    "id": "b3696d8d",
    "outputId": "2e3f2897-5540-4566-d3ca-b386c2dfb117"
   },
   "outputs": [],
   "source": [
    "result = sm.ols(formula=\"Salary_Estimate ~ ny*bs+ca*bs+skills+Size_new+Revenue_new\", \n",
    "                data=data5).fit()\n",
    "print(result.summary())"
   ]
  },
  {
   "cell_type": "code",
   "execution_count": null,
   "id": "c78b1747",
   "metadata": {
    "id": "c78b1747"
   },
   "outputs": [],
   "source": []
  },
  {
   "cell_type": "code",
   "execution_count": null,
   "id": "e0b73bd3",
   "metadata": {
    "id": "e0b73bd3"
   },
   "outputs": [],
   "source": []
  },
  {
   "cell_type": "code",
   "execution_count": null,
   "id": "73640036",
   "metadata": {
    "id": "73640036"
   },
   "outputs": [],
   "source": []
  },
  {
   "cell_type": "code",
   "execution_count": null,
   "id": "8a91cc56",
   "metadata": {
    "id": "8a91cc56"
   },
   "outputs": [],
   "source": []
  },
  {
   "cell_type": "code",
   "execution_count": null,
   "id": "ef6beb33",
   "metadata": {
    "id": "ef6beb33"
   },
   "outputs": [],
   "source": [
    "# import re\n",
    "\n",
    "\n",
    "# skills = ['SQL','Python','MachineLearning',\n",
    "#           'SPSS','MATLAB','SAS','Spark','Hadoop',\n",
    "#          'MongoDB','Tableau']\n",
    "# data['Jobs'] = None\n",
    "   \n",
    "# for i in range(data.shape[0]):\n",
    "#     for s in skills: \n",
    "#         m = re.search(f'(.*){s}', data['Job_Description'][i],re.IGNORECASE)\n",
    "#         if m:\n",
    "#             flag += 1\n",
    "#     data['Jobs'][i]=flag"
   ]
  },
  {
   "cell_type": "code",
   "execution_count": null,
   "id": "fc0d8497",
   "metadata": {
    "id": "fc0d8497"
   },
   "outputs": [],
   "source": [
    "# for s in skills:\n",
    "#     print(f'{s}: ',df[(df['Location_code']=='CA') & (df['Sector']=='Information Technology')][s].sum())"
   ]
  },
  {
   "cell_type": "code",
   "execution_count": null,
   "id": "1fe7c553",
   "metadata": {
    "id": "1fe7c553",
    "scrolled": true
   },
   "outputs": [],
   "source": [
    "# for s in skills:\n",
    "#     print(f'{s}: ',df[(df['Location_code']=='TX') & (df['Sector']=='Information Technology')][s].sum())"
   ]
  },
  {
   "cell_type": "code",
   "execution_count": null,
   "id": "8399107e",
   "metadata": {
    "id": "8399107e",
    "scrolled": true
   },
   "outputs": [],
   "source": [
    "# for s in skills:\n",
    "#     print(f'{s}: ',df[(df['Location_code']=='NY') & (df['Sector']=='Information Technology')][s].sum())"
   ]
  },
  {
   "cell_type": "code",
   "execution_count": null,
   "id": "95f76713",
   "metadata": {
    "id": "95f76713",
    "scrolled": true
   },
   "outputs": [],
   "source": [
    "# df[(df['Location_code']=='TX') & (df['Sector']=='Business Services')]['SQL'].sum()"
   ]
  },
  {
   "cell_type": "code",
   "execution_count": null,
   "id": "f4470c0f",
   "metadata": {
    "id": "f4470c0f",
    "scrolled": true
   },
   "outputs": [],
   "source": [
    "# df[(df['Location_code']=='TX') & (df['Sector']=='Business Services')]['Python'].sum()"
   ]
  },
  {
   "cell_type": "code",
   "execution_count": null,
   "id": "81879736",
   "metadata": {
    "id": "81879736"
   },
   "outputs": [],
   "source": [
    "# df[(df['Location_code']=='TX') & (df['Sector']=='Business Services')][''].sum()"
   ]
  },
  {
   "cell_type": "code",
   "execution_count": null,
   "id": "62988580",
   "metadata": {
    "id": "62988580",
    "scrolled": true
   },
   "outputs": [],
   "source": [
    "# df['SQL'].value_counts()"
   ]
  },
  {
   "cell_type": "code",
   "execution_count": null,
   "id": "45598b2f",
   "metadata": {
    "id": "45598b2f"
   },
   "outputs": [],
   "source": [
    "# df['Python'].value_counts()"
   ]
  },
  {
   "cell_type": "code",
   "execution_count": null,
   "id": "55de3ee1",
   "metadata": {
    "id": "55de3ee1"
   },
   "outputs": [],
   "source": [
    "# df['Machine Learning'].value_counts()"
   ]
  },
  {
   "cell_type": "code",
   "execution_count": null,
   "id": "27d7b1c0",
   "metadata": {
    "id": "27d7b1c0"
   },
   "outputs": [],
   "source": [
    "# l = ['CA', 'NY', 'TX']"
   ]
  },
  {
   "cell_type": "code",
   "execution_count": null,
   "id": "14d037c5",
   "metadata": {
    "id": "14d037c5"
   },
   "outputs": [],
   "source": []
  }
 ],
 "metadata": {
  "colab": {
   "name": "DSO 510 Project Summarized.ipynb",
   "provenance": []
  },
  "hide_input": false,
  "kernelspec": {
   "display_name": "Python 3",
   "language": "python",
   "name": "python3"
  },
  "language_info": {
   "codemirror_mode": {
    "name": "ipython",
    "version": 3
   },
   "file_extension": ".py",
   "mimetype": "text/x-python",
   "name": "python",
   "nbconvert_exporter": "python",
   "pygments_lexer": "ipython3",
   "version": "3.8.8"
  }
 },
 "nbformat": 4,
 "nbformat_minor": 5
}
